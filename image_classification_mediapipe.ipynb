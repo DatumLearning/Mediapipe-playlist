{
  "nbformat": 4,
  "nbformat_minor": 0,
  "metadata": {
    "colab": {
      "provenance": [],
      "authorship_tag": "ABX9TyOz4K9JNcjX6YG2v7tfH+8F",
      "include_colab_link": true
    },
    "kernelspec": {
      "name": "python3",
      "display_name": "Python 3"
    },
    "language_info": {
      "name": "python"
    }
  },
  "cells": [
    {
      "cell_type": "markdown",
      "metadata": {
        "id": "view-in-github",
        "colab_type": "text"
      },
      "source": [
        "<a href=\"https://colab.research.google.com/github/DatumLearning/Mediapipe-playlist/blob/main/image_classification_mediapipe.ipynb\" target=\"_parent\"><img src=\"https://colab.research.google.com/assets/colab-badge.svg\" alt=\"Open In Colab\"/></a>"
      ]
    },
    {
      "cell_type": "code",
      "execution_count": null,
      "metadata": {
        "id": "wOdauk2bV_RP"
      },
      "outputs": [],
      "source": [
        "!pip install mediapipe -q"
      ]
    },
    {
      "cell_type": "code",
      "source": [
        "!wget -O classifier.tflite -q https://storage.googleapis.com/mediapipe-models/image_classifier/efficientnet_lite0/float32/1/efficientnet_lite0.tflite"
      ],
      "metadata": {
        "id": "rkm62JJzYEgO"
      },
      "execution_count": null,
      "outputs": []
    },
    {
      "cell_type": "code",
      "source": [
        "import mediapipe as mp\n",
        "from mediapipe.tasks import python\n",
        "from mediapipe.tasks.python.components import processors\n",
        "from mediapipe.tasks.python import vision\n",
        "\n",
        "import cv2\n",
        "from google.colab.patches import cv2_imshow"
      ],
      "metadata": {
        "id": "kRSiJiQhX-fi"
      },
      "execution_count": null,
      "outputs": []
    },
    {
      "cell_type": "code",
      "source": [
        "base_options = python.BaseOptions(model_asset_path='/content/classifier.tflite')\n",
        "options = vision.ImageClassifierOptions(\n",
        "    base_options=base_options, max_results=4)\n",
        "classifier = vision.ImageClassifier.create_from_options(options)"
      ],
      "metadata": {
        "id": "V27BvA6SYL3p"
      },
      "execution_count": null,
      "outputs": []
    },
    {
      "cell_type": "code",
      "source": [
        "image = mp.Image.create_from_file(\"/content/dog.jpg\")"
      ],
      "metadata": {
        "id": "PSQBfHGoYTPX"
      },
      "execution_count": null,
      "outputs": []
    },
    {
      "cell_type": "code",
      "source": [
        "classification_result = classifier.classify(image)"
      ],
      "metadata": {
        "colab": {
          "base_uri": "https://localhost:8080/"
        },
        "id": "U38fIkUjY8S6",
        "outputId": "46dcc4b0-0da3-475e-fe6a-e7847a5a4393"
      },
      "execution_count": null,
      "outputs": [
        {
          "output_type": "stream",
          "name": "stderr",
          "text": [
            "/usr/local/lib/python3.10/dist-packages/google/protobuf/symbol_database.py:55: UserWarning: SymbolDatabase.GetPrototype() is deprecated. Please use message_factory.GetMessageClass() instead. SymbolDatabase.GetPrototype() will be removed soon.\n",
            "  warnings.warn('SymbolDatabase.GetPrototype() is deprecated. Please '\n"
          ]
        }
      ]
    },
    {
      "cell_type": "code",
      "source": [
        "classification_result"
      ],
      "metadata": {
        "colab": {
          "base_uri": "https://localhost:8080/"
        },
        "id": "_Dc3FCQdoYQw",
        "outputId": "ac46faa2-babe-4b19-f2d7-176799e67a38"
      },
      "execution_count": null,
      "outputs": [
        {
          "output_type": "execute_result",
          "data": {
            "text/plain": [
              "ClassificationResult(classifications=[Classifications(categories=[Category(index=235, score=0.40386340022087097, display_name='', category_name='German shepherd'), Category(index=198, score=0.13679218292236328, display_name='', category_name='standard schnauzer'), Category(index=196, score=0.11452548950910568, display_name='', category_name='miniature schnauzer'), Category(index=249, score=0.10347157716751099, display_name='', category_name='malamute')], head_index=0, head_name='probability')], timestamp_ms=2000)"
            ]
          },
          "metadata": {},
          "execution_count": 65
        }
      ]
    },
    {
      "cell_type": "code",
      "source": [
        "len(classification_result.classifications[0].categories)"
      ],
      "metadata": {
        "colab": {
          "base_uri": "https://localhost:8080/"
        },
        "id": "mPeQBELzplJt",
        "outputId": "aa94efe0-f013-4079-ab47-ec106266dba1"
      },
      "execution_count": null,
      "outputs": [
        {
          "output_type": "execute_result",
          "data": {
            "text/plain": [
              "4"
            ]
          },
          "metadata": {},
          "execution_count": 69
        }
      ]
    },
    {
      "cell_type": "code",
      "source": [
        "classification_result.classifications[0].categories[0]"
      ],
      "metadata": {
        "colab": {
          "base_uri": "https://localhost:8080/"
        },
        "id": "EN-9hanWY_5a",
        "outputId": "1f6150b4-70d0-4100-ad21-4f84ec8dd973"
      },
      "execution_count": null,
      "outputs": [
        {
          "output_type": "execute_result",
          "data": {
            "text/plain": [
              "Category(index=235, score=0.40386340022087097, display_name='', category_name='German shepherd')"
            ]
          },
          "metadata": {},
          "execution_count": 70
        }
      ]
    },
    {
      "cell_type": "code",
      "source": [
        "result = classification_result.classifications[0].categories[0]\n",
        "result.category_name , result.score"
      ],
      "metadata": {
        "colab": {
          "base_uri": "https://localhost:8080/"
        },
        "id": "mKRfnWhWZFXo",
        "outputId": "f8145412-46a8-4352-8af6-27b9e87d934e"
      },
      "execution_count": null,
      "outputs": [
        {
          "output_type": "execute_result",
          "data": {
            "text/plain": [
              "('German shepherd', 0.40386340022087097)"
            ]
          },
          "metadata": {},
          "execution_count": 71
        }
      ]
    },
    {
      "cell_type": "code",
      "source": [],
      "metadata": {
        "id": "9rE8rveHZP0n"
      },
      "execution_count": null,
      "outputs": []
    }
  ]
}