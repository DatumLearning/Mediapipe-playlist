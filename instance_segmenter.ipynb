{
  "cells": [
    {
      "cell_type": "markdown",
      "metadata": {
        "id": "view-in-github",
        "colab_type": "text"
      },
      "source": [
        "<a href=\"https://colab.research.google.com/github/DatumLearning/Mediapipe-playlist/blob/main/instance_segmenter.ipynb\" target=\"_parent\"><img src=\"https://colab.research.google.com/assets/colab-badge.svg\" alt=\"Open In Colab\"/></a>"
      ]
    },
    {
      "cell_type": "code",
      "execution_count": null,
      "metadata": {
        "id": "52gRZo9_tKA5"
      },
      "outputs": [],
      "source": [
        "!pip install -q mediapipe"
      ]
    },
    {
      "cell_type": "code",
      "execution_count": null,
      "metadata": {
        "id": "HogA5YJDtVqb"
      },
      "outputs": [],
      "source": [
        "!wget -O model.tflite -q https://storage.googleapis.com/mediapipe-models/interactive_segmenter/magic_touch/float32/1/magic_touch.tflite"
      ]
    },
    {
      "cell_type": "code",
      "execution_count": null,
      "metadata": {
        "id": "dL88aalHtvan"
      },
      "outputs": [],
      "source": [
        "import cv2\n",
        "from google.colab.patches import cv2_imshow"
      ]
    },
    {
      "cell_type": "code",
      "execution_count": null,
      "metadata": {
        "id": "v8fq9WE0xJaa"
      },
      "outputs": [],
      "source": [
        "import numpy as np\n",
        "import mediapipe as mp\n",
        "\n",
        "from mediapipe.tasks import python\n",
        "from mediapipe.tasks.python import vision\n",
        "from mediapipe.tasks.python.components import containers"
      ]
    },
    {
      "cell_type": "code",
      "execution_count": null,
      "metadata": {
        "id": "TKdTkK1qxYOe"
      },
      "outputs": [],
      "source": [
        "RegionOfInterest = vision.InteractiveSegmenterRegionOfInterest\n",
        "NormalizedKeypoint = containers.keypoint.NormalizedKeypoint"
      ]
    },
    {
      "cell_type": "code",
      "execution_count": null,
      "metadata": {
        "id": "41taLFsaxab_"
      },
      "outputs": [],
      "source": [
        "base_options = python.BaseOptions(model_asset_path='model.tflite')\n",
        "options = vision.ImageSegmenterOptions(base_options=base_options,\n",
        "                                       output_category_mask=True)"
      ]
    },
    {
      "cell_type": "code",
      "execution_count": null,
      "metadata": {
        "id": "8_cXqBpU7vMF"
      },
      "outputs": [],
      "source": [
        "x = 0.4\n",
        "y = 0.5"
      ]
    },
    {
      "cell_type": "code",
      "execution_count": null,
      "metadata": {
        "id": "B91Sh15-1YDr"
      },
      "outputs": [],
      "source": [
        "with vision.InteractiveSegmenter.create_from_options(options) as segmenter:\n",
        "  image = mp.Image.create_from_file(\"/content/dog.jpg\")\n",
        "  roi = RegionOfInterest(format=RegionOfInterest.Format.KEYPOINT,\n",
        "                           keypoint=NormalizedKeypoint(x, y))\n",
        "  segmentation_result = segmenter.segment(image, roi)\n",
        "  category_mask = segmentation_result.category_mask"
      ]
    },
    {
      "cell_type": "code",
      "execution_count": null,
      "metadata": {
        "id": "8lMrz31119NO"
      },
      "outputs": [],
      "source": [
        "BG_COLOR = (192, 192, 192) # gray\n",
        "MASK_COLOR = (255, 255, 255) # white\n"
      ]
    },
    {
      "cell_type": "code",
      "execution_count": null,
      "metadata": {
        "id": "Hff99eXh1bEy"
      },
      "outputs": [],
      "source": [
        "image_data = image.numpy_view()\n",
        "fg_image = np.zeros(image_data.shape, dtype=np.uint8)\n",
        "fg_image[:] = MASK_COLOR\n",
        "bg_image = np.zeros(image_data.shape, dtype=np.uint8)\n",
        "bg_image[:] = BG_COLOR"
      ]
    },
    {
      "cell_type": "code",
      "execution_count": null,
      "metadata": {
        "id": "eYICV4W-15LI"
      },
      "outputs": [],
      "source": [
        "condition = np.stack((category_mask.numpy_view(),) * 3, axis=-1) > 0.2\n",
        "output_image = np.where(condition, fg_image, bg_image)"
      ]
    },
    {
      "cell_type": "code",
      "execution_count": null,
      "metadata": {
        "colab": {
          "base_uri": "https://localhost:8080/",
          "height": 593
        },
        "id": "3f6HQ-kT4HcA",
        "outputId": "666f9e77-67ca-454d-86bb-0b509882fd9a"
      },
      "outputs": [
        {
          "output_type": "display_data",
          "data": {
            "text/plain": [
              "<PIL.Image.Image image mode=RGB size=768x576>"
            ],
            "image/png": "[encoded data removed]"
          },
          "metadata": {}
        }
      ],
      "source": [
        "cv2_imshow(output_image)"
      ]
    },
    {
      "cell_type": "code",
      "execution_count": null,
      "metadata": {
        "id": "-J9G5NrI4I_B"
      },
      "outputs": [],
      "source": []
    }
  ],
  "metadata": {
    "colab": {
      "provenance": [],
      "authorship_tag": "ABX9TyMTbw3FlTVukIDbyvthRQGQ",
      "include_colab_link": true
    },
    "kernelspec": {
      "display_name": "Python 3",
      "name": "python3"
    },
    "language_info": {
      "name": "python"
    }
  },
  "nbformat": 4,
  "nbformat_minor": 0
}